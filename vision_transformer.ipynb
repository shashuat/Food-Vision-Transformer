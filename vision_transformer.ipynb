{
 "cells": [
  {
   "cell_type": "markdown",
   "metadata": {},
   "source": [
    "## Vision Transformer"
   ]
  },
  {
   "cell_type": "code",
   "execution_count": null,
   "metadata": {},
   "outputs": [],
   "source": [
    "import torch\n",
    "import torchvision\n",
    "\n",
    "print(torchvision.__version__)"
   ]
  },
  {
   "cell_type": "code",
   "execution_count": null,
   "metadata": {},
   "outputs": [],
   "source": [
    "device = 'cuda' if torch.cuda.is_available() else 'cpu'\n",
    "print(device)"
   ]
  },
  {
   "cell_type": "code",
   "execution_count": null,
   "metadata": {},
   "outputs": [],
   "source": [
    "train_dir = './data/train'\n",
    "test_dir = './data/test'"
   ]
  },
  {
   "cell_type": "code",
   "execution_count": null,
   "metadata": {},
   "outputs": [],
   "source": [
    "from torch.utils.data import DataLoader\n",
    "from torchvision.datasets import ImageFolder\n",
    "from torchvision import transforms"
   ]
  },
  {
   "cell_type": "markdown",
   "metadata": {},
   "source": [
    "# Create the Data Loader"
   ]
  },
  {
   "cell_type": "code",
   "execution_count": null,
   "metadata": {},
   "outputs": [],
   "source": [
    "BATCH_SIZE = 16\n",
    "\n",
    "def create_dataloader(train_dir = train_dir, test_dir=test_dir, transform=None, batch_size=BATCH_SIZE):\n",
    "    train_data = ImageFolder(root=train_dir, transform=transform, target_transform=None)\n",
    "    test_data = ImageFolder(root=test_dir, transform=transform, target_transform=None)\n",
    "\n",
    "    train_dataloader = DataLoader(dataset=train_data, batch_size=batch_size, shuffle=True, drop_last=True)\n",
    "    test_dataloader = DataLoader(dataset=test_data, batch_size=batch_size, shuffle=False, drop_last=True)\n",
    "\n",
    "    return train_dataloader, test_dataloader\n"
   ]
  },
  {
   "cell_type": "code",
   "execution_count": null,
   "metadata": {},
   "outputs": [],
   "source": [
    "IMG_SIZE = (224, 224)\n",
    "\n",
    "man_transform = transforms.Compose([\n",
    "    transforms.Resize(IMG_SIZE),\n",
    "    transforms.ToTensor()\n",
    "])"
   ]
  },
  {
   "cell_type": "code",
   "execution_count": null,
   "metadata": {},
   "outputs": [],
   "source": [
    "train_dataloader, test_dataloader = create_dataloader(transform=man_transform)\n",
    "\n",
    "print(len(train_dataloader))\n",
    "print(len(test_dataloader))"
   ]
  },
  {
   "cell_type": "code",
   "execution_count": null,
   "metadata": {},
   "outputs": [],
   "source": [
    "from torch import nn\n",
    "PATCH_SIZE = (16,16)\n",
    "\n",
    "class patched_embeddings(nn.Module):\n",
    "    def __init__(self, embedding_size = 768, stride_length=PATCH_SIZE, kernel_size=PATCH_SIZE, batch_size = BATCH_SIZE):\n",
    "        super().__init__()\n",
    "        \n",
    "        self.patch_layer = nn.Conv2d(in_channels=3, out_channels=embedding_size, kernel_size=kernel_size, stride=stride_length)\n",
    "        self.flatten_layer = nn.Flatten(start_dim=2, end_dim=3)\n",
    "        self.class_token = nn.Parameter(torch.randn(batch_size, 1, embedding_size), requires_grad=True)\n",
    "        self.positional_encoding = nn.Parameter(torch.randn(self.class_token.shape), requires_grad=True)\n",
    "\n",
    "    def forward(self, x):\n",
    "        x = self.flatten_layer(self.patch_layer(x)).permute(0,2,1)\n",
    "        x = torch.cat((self.class_token, x), 1)\n",
    "        x = x + self.positional_encoding\n",
    "        return x\n",
    "\n"
   ]
  },
  {
   "cell_type": "code",
   "execution_count": null,
   "metadata": {},
   "outputs": [],
   "source": [
    "class MSABlock(nn.Module):\n",
    "    def __init__(self, embedding_dim = 768, num_heads=12, attn_dropout=0):\n",
    "        super().__init__()\n",
    "\n",
    "        self.layer_norm = nn.LayerNorm(normalized_shape=embedding_dim, device=device)\n",
    "        self.multiheaded_attn = nn.MultiheadAttention(embed_dim=embedding_dim, num_heads=num_heads, dropout=attn_dropout, device=device, batch_first=True)\n",
    "\n",
    "    def forward(self, x):\n",
    "        x = self.layer_norm(x)\n",
    "        attn_output, _ = self.multiheaded_attn(query=x, key=x, value=x, need_weights=False)\n",
    "\n",
    "        return attn_output\n"
   ]
  },
  {
   "cell_type": "code",
   "execution_count": null,
   "metadata": {},
   "outputs": [],
   "source": [
    "class MLPBlock(nn.Module):\n",
    "    def __init__(self, embedding_dim = 768, mlp_dropout=0.2, mlp_size=3072):\n",
    "        super().__init__()\n",
    "\n",
    "        self.layer_norm = nn.LayerNorm(normalized_shape=embedding_dim, device=device)\n",
    "        self.MLP = nn.Sequential(\n",
    "            nn.Linear(in_features=embedding_dim, out_features=mlp_size, device=device),\n",
    "            nn.GELU(),\n",
    "            nn.Dropout(p=mlp_dropout),\n",
    "            nn.Linear(in_features=mlp_size, out_features=embedding_dim, device=device)\n",
    "        )\n",
    "\n",
    "    def forward(self, x):\n",
    "        x = self.layer_norm(x)\n",
    "        return self.MLP(x)"
   ]
  },
  {
   "cell_type": "code",
   "execution_count": null,
   "metadata": {},
   "outputs": [],
   "source": [
    "class TransformerEncoderBlock(nn.Module):\n",
    "    def __init__(self, embedding_dim=768, num_heads=12, attn_dropout = 0, mlp_dropout=0.2):\n",
    "        super().__init__()\n",
    "\n",
    "        self.msa_block = MSABlock(embedding_dim=embedding_dim, num_heads=num_heads, attn_dropout=attn_dropout)\n",
    "        self.mlp_block = MLPBlock(embedding_dim=embedding_dim, mlp_dropout=mlp_dropout)\n",
    "\n",
    "    def forward(self, x):\n",
    "        x = self.msa_block(x) + x \n",
    "        x = self.mlp_block(x) + x\n",
    "\n",
    "        return x "
   ]
  },
  {
   "cell_type": "code",
   "execution_count": null,
   "metadata": {},
   "outputs": [],
   "source": [
    "class SimpleViT(nn.Module):\n",
    "    def __init__(self, embedding_size=768, stride_length=PATCH_SIZE, kernel_size=PATCH_SIZE, batch_size = BATCH_SIZE, num_heads=12, attn_dropout=0, mlp_dropout=0.2, num_encoders=12, out_classes = 3, hidden_size = 1024):\n",
    "        super().__init__()\n",
    "\n",
    "        self.patcher = patched_embeddings(embedding_size=embedding_size, stride_length=stride_length, kernel_size=kernel_size, batch_size=batch_size)\n",
    "        self.encoder_blocks = nn.Sequential(*[TransformerEncoderBlock(embedding_dim=embedding_size, num_heads=num_heads, attn_dropout=attn_dropout, mlp_dropout=mlp_dropout) for _ in range(num_encoders)])\n",
    "        self.mlp_head = nn.Sequential(\n",
    "            nn.Linear(in_features=embedding_size, out_features=hidden_size*2),\n",
    "            nn.GELU(),\n",
    "            nn.Dropout(mlp_dropout),\n",
    "            nn.Linear(in_features=hidden_size*2, out_features=hidden_size),\n",
    "            nn.GELU(),\n",
    "            nn.Dropout(mlp_dropout),\n",
    "            nn.Linear(in_features=hidden_size, out_features=out_classes),\n",
    "            nn.Softmax(dim=-1)\n",
    "        )\n",
    "\n",
    "    def forward(self, x):\n",
    "        x = self.patcher(x)\n",
    "\n",
    "        x = self.encoder_blocks(x)\n",
    "\n",
    "\n",
    "\n",
    "        return self.mlp_head(x[:,0])"
   ]
  },
  {
   "cell_type": "code",
   "execution_count": null,
   "metadata": {},
   "outputs": [],
   "source": [
    "from torchinfo import summary\n",
    "\n",
    "model_0 = SimpleViT().to(device)\n",
    "\n",
    "summary(model_0, input_size=(BATCH_SIZE, 3, 224,224))"
   ]
  },
  {
   "cell_type": "code",
   "execution_count": null,
   "metadata": {},
   "outputs": [],
   "source": [
    "from tqdm import tqdm"
   ]
  },
  {
   "cell_type": "code",
   "execution_count": null,
   "metadata": {},
   "outputs": [],
   "source": [
    "X, y = next(iter(train_dataloader))\n",
    "y"
   ]
  },
  {
   "cell_type": "code",
   "execution_count": null,
   "metadata": {},
   "outputs": [],
   "source": [
    "from torchmetrics import Accuracy\n",
    "\n",
    "accuracy_fn = Accuracy(task='multiclass', num_classes=3).to(device)"
   ]
  }
 ],
 "metadata": {
  "kernelspec": {
   "display_name": "tf",
   "language": "python",
   "name": "python3"
  },
  "language_info": {
   "name": "python",
   "version": "3.9.16"
  },
  "orig_nbformat": 4
 },
 "nbformat": 4,
 "nbformat_minor": 2
}
